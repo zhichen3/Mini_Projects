{
 "cells": [
  {
   "cell_type": "markdown",
   "metadata": {},
   "source": [
    "Two Dimensional linear advection equation:\n",
    "$$ a_t + ua_x + va_y = 0 $$\n",
    "where $u$ is the velocity in the x-direction and v is the velocity in the y-direction. Let $a_{i,j}$ denote the average of a(x,y,t) in zone $i$, $j$. Extend the domain with a perimeter of ghost cells to set the boundary conditions.<br>\n",
    "<br>\n",
    "Conservative form:\n",
    "$$ a_t + (ua)_x +(va)_y = 0 $$\n",
    "Then define the avaerage of $a$ in a zone by integrating over volume: \n",
    "$$   a_{i,j} = \\frac{1}{\\Delta x \\Delta y}\\int^{x_{i+1/2}}_{x_{i-1/2}} \\int^{y_{j+1/2}}_{y_{j-1/2}} a(x,y,t) dxdy  $$\n",
    "\n",
    "Integrate over the conservative form:\n",
    "$$ \\frac{1}{\\Delta x \\Delta y} \\int^{x_{i+1/2}}_{x_{i-1/2}} \\int^{y_{j+1/2}}_{y_{j-1/2}} (a_t+(ua)_x+(va)_y) dxdy = 0 $$\n",
    "\n",
    "Using the divergence theorem:\n",
    "$$ \\frac{\\partial a_{i,j}}{\\partial t} = -\\frac{1}{\\Delta x \\Delta y}\\left \\{ \\int^{y_{j+1/2}}_{y_{j-1/2}} \\left[ (ua)_{i+1/2,j} - (ua)_{i-1/2,j} \\right] dy + \\int^{x_{i+1/2}}_{x_{i-1/2}} \\left[(va)_{i,j+1/2} - (va)_{i,j-1/2}   \\right]dx    \\right \\} $$"
   ]
  },
  {
   "cell_type": "markdown",
   "metadata": {},
   "source": [
    "Using Euler Equation: \n",
    "$$\\frac{\\partial a}{\\partial t} = \\frac{a^{n+1}_{i,j} - a^{n}_{i,j}}{\\partial t}$$\n",
    "\n",
    "Define the flux throug the interface as the average over the face of that interface and time: <br>\n",
    "- x-face:\n",
    "$$\\langle(ua)_{i+1/2,j}\\rangle_{(t)} = \\frac{1}{\\Delta y \\Delta t} \\int^{t^{n+1}}_{t^n} \\int^{y_{j+1/2}}_{y_{j-1/2}} (ua)_{i+1/2,j} dydt$$\n",
    "\n",
    "- y-face:\n",
    "$$ \\langle (va)_{i,j+1/2} \\rangle_{(t)} = \\frac{1}{\\Delta x \\Delta t} \\int^{t^{n+1}}_{t^n} \\int^{x_{i+1/2}}_{x_{i-1/2}} (va)_{i+1/2,j} dydt $$\n",
    "\n",
    "For second-order accurate in time, replace the average in time with the flux at the midpoint in time and the average over the face with the flux at the center of the face:\n",
    "$$ \\langle(ua)_{i+1/2,j}\\rangle \\approx (ua)^{u+1/2}_{i+1/2,j}$$\n",
    "\n",
    "<br>\n",
    "Thus, which is the same as finite volume method but an additional direction.:\n",
    "$$ a^{n+1}_{i,j} = a^n_{i,j} - \\Delta t \\left[ \\frac{(ua)^{n+1/2}_{i+1/2,j}- (ua)^{n+1/2}_{i-1/2,j}}{\\Delta x} + \\frac{(va)^{n+1/2}_{i,j+1/2} - (va)^{n+1/2}_{i,j-1/2}}{\\Delta y} \\right]$$"
   ]
  },
  {
   "cell_type": "markdown",
   "metadata": {},
   "source": [
    "Two methods for finite volume, dimensional split and unsplit. For dimensionally split method, treat each dimension to be operated independently from the other. Unsplit method is more accurate and less susceptible to grid effects."
   ]
  },
  {
   "cell_type": "markdown",
   "metadata": {},
   "source": [
    "**Dimensional Splitting**: \n",
    "<br>Strang splitting: where we alternate the order of the dimensional updates each timestep, $\\star$ to symbolize an intermediate state.\n",
    "$$\\frac{a^\\star_{i,j} - a^n_{i,j}}{\\Delta t} = -\\frac{ua^{n+1/2}_{i+1/2,j}-ua^{n+1/2}_{i-1/2,j}}{\\Delta x}$$\n",
    "$$ \\frac{a^{n+1}_{i,j} - a^\\star_{i,j}}{\\Delta t} = - \\frac{va^{\\star,n+1/2}_{i,j+1/2} - va^{\\star, n+1/2}_{i,j-1/2}}{\\Delta y} $$\n",
    "\n",
    "Here we do the update in the x-direction first and updating it. Then the state is updated again using information in the y-direction. However, one must alternate the direction for each timestep, i.e. x-y then y-x. Do two different updates independently, i.e. solving:\n",
    "$$ a_t + ua_x = 0 $$\n",
    "$$ a_t + va_y = 0 $$\n",
    "\n",
    "The riemann problem is the same as 1-D case i.e.:\n",
    "\n",
    "Left: \n",
    "$$ a^{n+1/2}_{i+1/2,L}  = a^n_i + \\left. \\frac{\\Delta x}{2}\\left(1-\\frac{\\Delta t}{\\Delta x}u\\right) \\frac{\\partial a}{\\partial x}\\right|_i + ... $$\n",
    "\n",
    "Right:\n",
    "$$ a^{n+1/2}_{i+1/2,R} = a^n_{i+1} - \\left. \\frac{\\Delta x}{2} \\left( 1 + \\frac{\\Delta t}{\\Delta x}u\\right) \\frac{\\partial a}{\\partial x}\\right|_{i+1}$$\n",
    "\n",
    "To reach second-order accuracy one must alternate the direction of the sweeps each timestep, x-y then y-x. This pair of sweeps should use the same timestep, $\\Delta t$."
   ]
  },
  {
   "cell_type": "markdown",
   "metadata": {},
   "source": [
    "Define $\\Delta t$ for multi-dimension:\n",
    "$$ \\Delta t = C\\left( \\sum^d_{i=1} \\frac{\\left| U \\cdot e_d \\right|}{\\Delta x_d}  \\right)^{-1} $$"
   ]
  },
  {
   "cell_type": "markdown",
   "metadata": {},
   "source": [
    "**Unsplit Method** <br>\n"
   ]
  },
  {
   "cell_type": "code",
   "execution_count": null,
   "metadata": {},
   "outputs": [],
   "source": []
  },
  {
   "cell_type": "code",
   "execution_count": null,
   "metadata": {},
   "outputs": [],
   "source": []
  },
  {
   "cell_type": "code",
   "execution_count": null,
   "metadata": {},
   "outputs": [],
   "source": []
  }
 ],
 "metadata": {
  "kernelspec": {
   "display_name": "Python 3",
   "language": "python",
   "name": "python3"
  },
  "language_info": {
   "codemirror_mode": {
    "name": "ipython",
    "version": 3
   },
   "file_extension": ".py",
   "mimetype": "text/x-python",
   "name": "python",
   "nbconvert_exporter": "python",
   "pygments_lexer": "ipython3",
   "version": "3.10.4"
  }
 },
 "nbformat": 4,
 "nbformat_minor": 4
}
