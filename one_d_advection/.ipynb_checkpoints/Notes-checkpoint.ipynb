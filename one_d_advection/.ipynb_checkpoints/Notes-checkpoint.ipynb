{
 "cells": [
  {
   "cell_type": "markdown",
   "metadata": {},
   "source": [
    "Linear Advection Equation: <br>\n",
    "$$a_t + ua_x = 0$$<br>\n",
    "With Initial Condition, $a(x,t=0)$ and boundary condition. <br>\n",
    "Solution to the equation: <br>\n",
    "$$a(x,t) = a(x-ut)$$ <br>"
   ]
  },
  {
   "cell_type": "markdown",
   "metadata": {},
   "source": [
    "Discretizing a(x) into: <br>\n",
    "$$a^n_i = a(x_i,t^n)$$ <br>"
   ]
  },
  {
   "cell_type": "markdown",
   "metadata": {},
   "source": [
    "Use Euler Method (FTCS - forward-time centered space): <br>\n",
    "We have first order approximation on the left but second order approximation on the right. <br>\n",
    "$$\\frac{a_i^{n+1}-a^n_i}{\\Delta t} = -u\\frac{a^n_{i+1}-a^n_{i-1}}{2\\Delta x}$$ <br>\n",
    "\n",
    "Rewriting: <br>\n",
    "$$ a^{n+1}_i = a^n_i - \\frac{C}{2}(a^n_{i+1} - a^n_{i-1})  $$ <br>\n",
    "where C is the Courant Number, (For FTCS smaller C gives better answer): <br>\n",
    "$$ C = \\frac{u\\Delta t}{\\Delta x}$$ <br>"
   ]
  },
  {
   "cell_type": "markdown",
   "metadata": {},
   "source": [
    "Ghost Cell/Point: <br>\n",
    "Imagine have N points to describe a fluid from 0, 1, 2, ... N. When we do the update for $a[0]$, but we need information from $a[-1]$, which is outside of the domain. We need to extend the domain past the boundary, by creating ghost points: <br>\n",
    "\n",
    "Boundary conditon describes what happens to the domain when you go outside of the scope. <br>\n",
    "\n",
    "Ghost points are used to implement boundary conditions, if periodic: <br>\n",
    "$$a^n_0 = a^n_{N-1}$$ <br>\n",
    "$$a^n_N = a^n_1 $$ <br>\n",
    "<br>\n",
    "if outflow: <br>\n",
    "$$ a^n_0 = a^n_{0-1} $$ <br>\n",
    "$$ a^n_N = a^n_{N+1} $$ <br>"
   ]
  },
  {
   "cell_type": "markdown",
   "metadata": {},
   "source": [
    "Stability: <br>\n",
    "Truncation analysis for FTCS: <br>\n",
    "$$a_i^{n+1} = a^n_i -\\frac{C}{2}(a^n_{i+1} - a^n{i-1})$$ <br>\n",
    "\n",
    "Taylor expand in space and time: <br>\n",
    "$$ a^n_{i \\pm 1} = a^n_i \\pm a_x\\Delta x + \\frac{1}{2}a_{xx}\\Delta x^2 + \\mathcal{O}(\\Delta x^3)$$ <br>\n",
    "$$ a^{n+1}_i = a^n_i + a_t \\Delta t + \\frac{1}{2}a_{tt}\\Delta t^2 + \\mathcal{O}(\\Delta t^3) $$\n",
    "\n",
    "Using advection equation:\n",
    "$$a_t = -ua_x $$ \n",
    "$$a_{tt} = -u^2a_{xx}$$\n",
    "\n",
    "Subsitude to equation above:\n",
    "$$ a^{n+1}_i = a^n_i + a_t\\Delta t + \\frac{1}{2}u^2a_{xx}\\Delta t^2 + \\mathcal{O}(\\Delta t^3) = a^n_i - \\frac{C}{2}(2a_x\\Delta x) + \\mathcal{O}(\\Delta x^3) $$ \n",
    "\n",
    "Simplifying:\n",
    "$$ a_t + ua_x = -\\frac{1}{2}u^2\\Delta ta_{xx} + \\mathcal{O}(\\Delta t^2) + \\mathcal{O}\\Delta x^3 $$\n",
    "Left side is the original linear advecton equation, but there is extra term on the right, which is proportional to $a_{xx}$. This is a diffusion term, which takes a peaked distribution and smear out over time. However, there is a negative coefficient making it unphysical, which makes the system unstable.\n",
    "<br>"
   ]
  },
  {
   "cell_type": "markdown",
   "metadata": {},
   "source": [
    "Stability through Fourier Mode Discretization: <br>\n",
    "Subsititude $$a^n_i = A^ne^{-Ii\\theta}$$\n",
    "Stable if: \n",
    "$$ \\left| \\frac{A^{n+1}}{A_n} \\right| \\leq 1$$\n",
    "For FTCS: <br>\n",
    "$$a^{n+1}_i = a^n_i - \\frac{C}{2}(a^n_{i+1} - a^n_{i-1})$$\n",
    "\n",
    "$$ A^{n+1}e^{Ii\\theta} = A^ne^{Ii\\theta} - \\frac{C}{2} \\left( A^ne^{I(i+1)\\theta} - A^ne^{I(i-1)\\theta} \\right) $$\n",
    "\n",
    "$$ A^{n+1} = A^n - \\frac{C}{2} A^n \\left( e^{I\\theta}-e^{-I\\theta} \\right) $$\n",
    "\n",
    "$$ A^{n+1} = A^n\\left( 1 - IC\\sin{\\theta} \\right) $$\n",
    "\n",
    "THe magnitude is therefore: \n",
    "$$ \\left| \\frac{A^{n+1}}{A^n} \\right|^2 = 1+C^2\\sin^2{\\theta} \\geq 1$$\n",
    "Since its always $\\geq 1$, there is no way to make it stable."
   ]
  },
  {
   "cell_type": "markdown",
   "metadata": {},
   "source": [
    "Upwinding Method: <br>\n",
    "Consider first order expansion:<br>\n",
    "$$ (a_x)_i \\approx \\frac{a_i - a_{i-1}}{\\Delta x} + \\mathcal{O}(\\Delta x)$$ \n",
    "Or\n",
    "$$ (a_x)_i \\approx \\frac{a_{i+1} - a_i}{\\Delta x} + \\mathcal{O}(\\Delta x)$$\n",
    "\n",
    "If $ u > 0 $, suggesting traveling from left to right, we choose upwinding:\n",
    "$$ \\frac{a^{n+1}_i - a^n_i }{\\Delta t} = -u\\frac{a^n_i - a^n_{i-1}}{\\Delta x}$$"
   ]
  },
  {
   "cell_type": "markdown",
   "metadata": {},
   "source": [
    "Different Norms for error: <br>\n",
    "- inf norm: \n",
    "$$ ||q||_{\\infty} = {max}_i |q_i|$$ \n",
    "- L1 norm:\n",
    "$$ ||q||_1 = \\frac{1}{N} \\sum^{N-1}_{i=0} |q_i| $$\n",
    "- L2 norm:\n",
    "$$ ||q||_2 = \\left[ \\frac{1}{N} \\sum^{N-1}_{i=0} |q_i|^2 \\right]^{1/2} $$\n",
    "- general p-norm:\n",
    "$$ ||q||_p = \\left[\\frac{1}{N} \\sum^{N-1}_{i=0} |q_i|^p \\right]^{1/p} $$"
   ]
  },
  {
   "cell_type": "markdown",
   "metadata": {},
   "source": [
    "Test Problem: <br>\n",
    "Advection equation preserves any initial condition and just moves it at velocity u. By using periodic boundary condition on domain $[0,1]$ and advect for a time of $1/u$, one period, we should return to the starting point."
   ]
  },
  {
   "cell_type": "code",
   "execution_count": null,
   "metadata": {},
   "outputs": [],
   "source": []
  }
 ],
 "metadata": {
  "kernelspec": {
   "display_name": "Python 3",
   "language": "python",
   "name": "python3"
  },
  "language_info": {
   "codemirror_mode": {
    "name": "ipython",
    "version": 3
   },
   "file_extension": ".py",
   "mimetype": "text/x-python",
   "name": "python",
   "nbconvert_exporter": "python",
   "pygments_lexer": "ipython3",
   "version": "3.10.4"
  }
 },
 "nbformat": 4,
 "nbformat_minor": 4
}
