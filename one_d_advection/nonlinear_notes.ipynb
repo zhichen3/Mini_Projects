{
 "cells": [
  {
   "cell_type": "markdown",
   "metadata": {},
   "source": [
    "Finite-volume Discretization <br>\n",
    "Rewrite advection equation in conservation form: <br>\n",
    "$$ a_t + \\nabla[f(a)] = 0 $$\n",
    "$ f(a) = ua $ is the flux of the quantity a. In conservation form, the time derivative of a quantity is related to the divergence of flux.<br>\n",
    "For finite-volume discretization:\n",
    "$$\\frac{\\partial a}{\\partial t} = -\\frac{\\partial F(a)}{\\partial x} $$\n",
    "\n",
    "$$\\frac{1}{\\Delta x} \\int^{x_{i+1/2}}_{x_{i-1/2}} a_t dx = -\\frac{1}{\\Delta x}\\int^{x_{i+1/2}}_{x_{i-1/2}} \\frac{\\partial}{\\partial x} f(a) dx$$\n",
    "\n",
    "$$\\frac{\\partial}{\\partial t} \\langle a\\rangle_i = -\\frac{1}{\\Delta x} \\left\\{[f(a)]_{i+1/2} - [f(a)]_{i-1/2} \\right\\}$$\n",
    "\n",
    "Two approaches: <br>\n",
    "- Predictor-corrector method or characteristic tracing method: Discretize $\\partial a_i / \\partial t$ as $(a_i^{n+1} -a^n_i)/\\Delta t$. Then acheive second-order accuracy by evaluating the righthand of Equation above at midpoint in time $(n+1/2)$.\n",
    "- Method of lines: recognize PDE becomes ODE, then use standard ODE methods like Runge-Kutta to integrate the system in time."
   ]
  },
  {
   "cell_type": "markdown",
   "metadata": {},
   "source": [
    "Ghost cells are used to implement boundary conditions (For finite-volume), if periodic: <br>\n",
    "$$a^n_{hi+i+1} = a^n_{lo+i}$$ <br>\n",
    "$$a^n_{lo-i-1} = a^n_{hi-i} $$ <br>\n",
    "<br>\n",
    "if outflow: <br>\n",
    "$$ a^n_{hi+1+i} = a^n_{hi+i} $$ <br>\n",
    "$$ a^n_{lo-1-i} = a^n_{lo-i} $$ <br>"
   ]
  },
  {
   "cell_type": "markdown",
   "metadata": {},
   "source": [
    "Predictor-corrector scheme: <br>\n",
    "Take $\\partial a_i/\\partial t$ as $(a^{n+1}_i - a^n_i)/\\Delta t$ (Euler's method). Then we have equation: \n",
    "$$ \\frac{a^{n+1}_i - a^n_i}{\\Delta t} = -\\frac{[f(a)]^{n+1/2}_{i+1/2} - [f(a)]^{n+1/2}_{i-1/2}}{\\Delta x} $$\n",
    "To evaluate the fluxes at half-time:\n",
    "$$[f(a)]^{n+1/2}_{i+1/2} = f(a^{n+1/2}_{i+1/2})$$\n",
    "Construct a second-order accurate approximation to $a^{n+1/2}_{i+1/2}$ by Taylor expanding. <br>\n",
    "Notice there are two interface states that can be constructed, either using data from left, e.g. L, or right, e.g. R. <br>\n",
    "\n",
    "Left: \n",
    "$$ a^{n+1/2}_{i+1/2,L} = a^n_i + \\left .\\frac{\\Delta x}{2}\\frac{\\partial a}{\\partial x}\\right|_i + \\left. \\frac{\\Delta t}{2} \\frac{\\partial a}{\\partial t}\\right|_i + \\mathcal{O}(\\Delta x^2) + \\mathcal{O}(\\Delta t^2) $$\n",
    "\n",
    "$$ = a^n_i + \\left. \\frac{\\Delta x}{2}\\frac{\\partial a}{\\partial x} \\right|_i + \\left. \\frac{\\Delta t}{2}\\left(-u\\frac{\\partial a}{\\partial x} \\right|_i\\right)+...$$\n",
    "\n",
    "$$ = a^n_i + \\left. \\frac{\\Delta x}{2}\\left(1-\\frac{\\Delta t}{\\Delta x}u\\right) \\frac{\\partial a}{\\partial x}\\right|_i + ... $$\n",
    "\n",
    "Right:\n",
    "$$ a^{n+1/2}_{i+1/2,R} = a^n_{i+1} - \\left. \\frac{\\Delta x}{2} \\left( 1 + \\frac{\\Delta t}{\\Delta x}u\\right) \\frac{\\partial a}{\\partial x}\\right|_{i+1}$$\n",
    "\n",
    "Then we can approximate just like FTCS, this is using centered slope: \n",
    "$$\\left. \\frac{\\partial a}{\\partial x}\\right|_i = \\frac{a_{i+1} - a_{i-1}}{2\\Delta x}$$\n",
    "\n",
    "Riemann Problem: degeneracy problem that we need to choose which state to be the correct interface state. For advection, if $u>0$, $a(x)$ moves from left to right, so the interface state is the left state. And if $u<0$, we have the reverse:\n",
    "\n",
    "$$ a_{i+1/2} = \\mathcal{R}(a_{i+1/2,L},a_{i+1/2,R})= \n",
    "\\begin{array}{ll} \n",
    "a_{i+1/2,L}  &&  u>0 \\\\\n",
    "a_{i+1/2,R}  &&  u<0 \\\\\n",
    "\\end{array}\n",
    "$$\n",
    "\n",
    "Inserting back to the difference equation, we have:\n",
    "$$ \\langle a \\rangle^{n+1}_i = \\langle a \\rangle^n_i - \\frac{\\Delta t}{\\Delta x} (f(a)^n_{i+1/2} - f(a)^n_{i-1/2})$$\n",
    "For advection, $u>0$. Take states to be the left interface Which would be:\n",
    "$$ \\langle a \\rangle^{n+1}_i = \\langle a \\rangle^n_i - \\frac{u\\Delta t}{\\Delta x}(\\langle a \\rangle^n_{i+1/2} - \\langle a \\rangle^n_{i-1/2}) $$\n",
    "$$\\langle a \\rangle^{n+1}_i = \\langle a \\rangle^n_i - \\frac{u \\Delta t}{\\Delta x}\\left(\\langle a\\rangle^n_i + \\left. \\frac{\\Delta x}{2}\\left(1-\\frac{\\Delta t}{\\Delta x}u\\right) \\frac{\\partial \\langle a \\rangle}{\\partial x}\\right|_{i} - \\langle a \\rangle ^n_{i-1} - \\left. \\frac{\\Delta x}{2}\\left(1-\\frac{\\Delta t}{\\Delta x}u\\right) \\frac{\\partial \\langle a \\rangle}{\\partial x}\\right|_{i-1}   \\right) $$\n",
    "\n",
    "where:\n",
    "$$\\langle a \\rangle_i = \\frac{1}{\\Delta x} \\int^{x_{i+1/2}}_{x_{i-1/2}} a(x)dx$$"
   ]
  },
  {
   "cell_type": "markdown",
   "metadata": {},
   "source": [
    "<br>\n",
    "<br>\n",
    "If we taylor expand about $x$\n",
    "$$ a(x) = a(x_i) + \\left. \\frac{\\partial x}{\\partial x} \\right|_i (x-x_i) + \\left. \\frac{1}{2}\\frac{\\partial^2a}{\\partial x^2}\\right|_i (x-x_i)^2 + \\mathcal{O}(\\Delta x^3) $$\n",
    "Inserting back to the integral:\n",
    "$$ \\langle a \\rangle_i = \\frac{1}{\\Delta x} \\int^{x_{i+1/2}}_{x_{i-1/2}} \\left[a(x_i) + \\left. \\frac{\\partial a}{\\partial x}\\right|_i(x-x_i) + \\left. \\frac{1}{2}\\frac{\\partial^2 a}{\\partial x^2} \\right|_i (x-x_i)^2 + \\mathcal{O}(\\Delta x^3) \\right] dx  $$\n",
    "\n",
    "Looking at these terms:\n",
    "- the first term is a constant, $a(x_i) \\Delta x$\n",
    "- the second term is odd over $[x_{i-1/2}, x_{i+1/2}]$, so it goes to zero.\n",
    "- third term goes to $\\mathcal{O}(\\Delta x)^3$\n",
    "\n",
    "Therefore:\n",
    "$$ \\langle a \\rangle _i = a(x_i) + \\mathcal{O}(\\Delta x^2)$$\n",
    "\n",
    "So (the same as upwinding method) if we take slope $\\partial a/\\partial x = 0$, which is known as piecewise constant:\n",
    "$$  a^{n+1}_i = a^n_i - \\frac{u\\Delta t}{\\Delta x}(a^n_i - a^n_{i-1}) $$"
   ]
  },
  {
   "cell_type": "markdown",
   "metadata": {},
   "source": [
    "Slope Limiter: <br>\n",
    "Godunov's theorem: any monotonic linear method for advection is first-order accurate. The converse is true meaning algorithm must be nonlinear in order to have a second-order accurate method.<br>\n",
    "<br>\n",
    "Limited slope avoids overshoot and undershoots at discontinuity states. A limiter modifies the piecewise linear slopes near extrema to prevent overshoots. Generally check whether slope of the left and slope on the right have the same sigh, by invoking $a \\cdot b > 0$. If they are not the same sign, we are an extrema. Therefore limit the slope to force it be 0. <br>\n",
    "<br>\n",
    "\n",
    "Minmod Limiter:<br>\n",
    "$$\\left. \\frac{\\partial a}{\\partial x} \\right|_i = \\textrm{minmod}\\left( \\frac{a_i - a_{i-1}}{\\Delta x}, \\frac{a_{i+1}-a_i}{\\Delta x}\\right) $$\n",
    "where minmod(a,b) is defined as:\n",
    "\n",
    "$$\n",
    "\\textrm{minmod}(a,b) = \n",
    "\\begin{array}{lll}\n",
    "a & if & |a| < |b| & \\textrm{and} & a \\cdot b > 0 \\\\\n",
    "b & if & |b| < |a| & \\textrm{and} & a \\cdot b > 0 \\\\\n",
    "0 && \\textrm{otherwise} \\\\\n",
    "\\end{array}\n",
    "$$\n",
    "\n",
    "MC Limiter (monotonized central difference): <br>\n",
    "Define $$\\xi = (a_{i+1} - a_i) \\cdot (a_i - a_{i-1})$$\n",
    "Then: \n",
    "$$\n",
    "\\left. \\frac{\\partial a}{\\partial x}\\right|_i = \n",
    "\\begin{array}{ll}\n",
    "\\textrm{min} \\left[\\frac{\\left| a_{i+1}-a_{i-1} \\right|}{2\\Delta x} , 2\\frac{\\left| a_{i+1} - a_i \\right|}{\\Delta x}, 2 \\frac{\\left| a_i - a_{i-1} \\right|}{\\Delta x} \\right] \\textrm{sign} (a_{i+1}-a_{i-1}) & \\xi > 0 \\\\\n",
    "0 & \\textrm{otherwise}\n",
    "\\end{array}\n",
    "$$\n"
   ]
  },
  {
   "cell_type": "markdown",
   "metadata": {},
   "source": [
    "Method of lines: <br>\n",
    "Treat it as ODE, and by setting $f(a) = ua$, and solve using Runge-Kutta:\n",
    "$$ \\frac{\\partial a_i}{\\partial t} = -\\frac{ua_{i+1/2} - ua_{i-1/2}}{\\Delta x} = g(a_i) = \\dot{a_i}$$\n",
    "And we have the same Riemann probalem and define:\n",
    "$$ a_{i+1/2,L} = a(x_i-\\Delta x/2) = a_i + \\frac{1}{2}\\frac{\\partial a_i}{\\partial x} \\Delta x$$\n",
    "$$ a_{i+1/2,R} = a(x_i + \\Delta x/2) = a_{i+1} - \\frac{1}{2}\\frac{\\partial a_{i+1}}{\\partial x}\\Delta x $$"
   ]
  },
  {
   "cell_type": "markdown",
   "metadata": {},
   "source": [
    " $$\\frac{\\partial a_i}{\\partial x} = \\frac{a_{i+1}-a_{i-1}}{2\\Delta x}$$"
   ]
  },
  {
   "cell_type": "markdown",
   "metadata": {},
   "source": [
    "4th Order Runge Kutta for:\n",
    "$$ \\frac{dy}{dt} = f(t,y)  $$\n",
    "$$ y_{n+1} = y_n + \\frac{1}{6}dt(k_1+2k_2+2k_3+k_4) $$\n",
    "$$t_{n+1} = t_n + dt$$\n",
    "with:\n",
    "$$ k_1 = f(t_n,y_n) $$\n",
    "$$ k_2 = f(t_n+\\frac{dt}{2}, y_n + dt\\frac{k_1}{2}) $$\n",
    "$$ k_3 = f(t_n+\\frac{dt}{2}, y_n + dt\\frac{k_2}{2}) $$\n",
    "$$ k_4 = f(t_n + dt, y_n + dtk_3) $$"
   ]
  },
  {
   "cell_type": "code",
   "execution_count": null,
   "metadata": {},
   "outputs": [],
   "source": []
  }
 ],
 "metadata": {
  "kernelspec": {
   "display_name": "Python 3",
   "language": "python",
   "name": "python3"
  },
  "language_info": {
   "codemirror_mode": {
    "name": "ipython",
    "version": 3
   },
   "file_extension": ".py",
   "mimetype": "text/x-python",
   "name": "python",
   "nbconvert_exporter": "python",
   "pygments_lexer": "ipython3",
   "version": "3.10.4"
  }
 },
 "nbformat": 4,
 "nbformat_minor": 4
}
